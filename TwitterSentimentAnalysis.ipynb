{
  "nbformat": 4,
  "nbformat_minor": 0,
  "metadata": {
    "colab": {
      "name": "TwitterSentimentAnalysis.ipynb",
      "provenance": [],
      "collapsed_sections": [],
      "authorship_tag": "ABX9TyOIKUgk/2MLXqAz9hF5W69z",
      "include_colab_link": true
    },
    "kernelspec": {
      "name": "python3",
      "display_name": "Python 3"
    }
  },
  "cells": [
    {
      "cell_type": "markdown",
      "metadata": {
        "id": "view-in-github",
        "colab_type": "text"
      },
      "source": [
        "<a href=\"https://colab.research.google.com/github/krGaurav310/AllColabProjects/blob/master/TwitterSentimentAnalysis.ipynb\" target=\"_parent\"><img src=\"https://colab.research.google.com/assets/colab-badge.svg\" alt=\"Open In Colab\"/></a>"
      ]
    },
    {
      "cell_type": "code",
      "metadata": {
        "id": "ZWVQ00FVdFhq",
        "colab_type": "code",
        "colab": {}
      },
      "source": [
        "import tweepy\n",
        "from textblob import TextBlob \n",
        "#from WordCloud import WordCloud\n",
        "import pandas as pd\n",
        "import numpy as np\n",
        "import re\n",
        "import matplotlib.pyplot as plt\n",
        "plt.style.use('fivethirtyeight')"
      ],
      "execution_count": 49,
      "outputs": []
    },
    {
      "cell_type": "code",
      "metadata": {
        "id": "ueL3Aj1iu4gC",
        "colab_type": "code",
        "colab": {}
      },
      "source": [
        "from wordcloud import WordCloud\n"
      ],
      "execution_count": 50,
      "outputs": []
    },
    {
      "cell_type": "code",
      "metadata": {
        "id": "0KOAnDDTunG0",
        "colab_type": "code",
        "colab": {}
      },
      "source": [
        "# Twitter Api Credentials\n",
        "Consumer_Key = \"4eg6ytsqfCiNHP8I1aqa0le03\"\n",
        "Consumer_Secret_Key = \"3sgIXK1ir1WIxUMBukdwI4DUyupC00DxMv3JUiLJDlkLVNR9tt\"\n",
        "Access_Token = \"1282647220202827776-ki4lKdwS851lq9FKt7u2NfgeBgSDwB\"\n",
        "Access_Token_Secret = \"44whpnVxT1eUbhRsncrpXIpgpvJ01CdlmJNiPpdk9m3gE\""
      ],
      "execution_count": 51,
      "outputs": []
    },
    {
      "cell_type": "code",
      "metadata": {
        "id": "l_bCv9-8unDl",
        "colab_type": "code",
        "colab": {}
      },
      "source": [
        "#Authenticating Keys\n",
        "auth = tweepy.OAuthHandler(Consumer_Key,Consumer_Secret_Key)\n",
        "auth.set_access_token(Access_Token,Access_Token_Secret)\n",
        "api = tweepy.API(auth)\n",
        "\n",
        "#status = \"Testing!\"\n",
        "#api.update_status(status=status)"
      ],
      "execution_count": 52,
      "outputs": []
    },
    {
      "cell_type": "code",
      "metadata": {
        "id": "sjuNV7gyTfMG",
        "colab_type": "code",
        "colab": {}
      },
      "source": [
        "posts = api.user_timeline(screen_name = \"BillGates\",count = 100, lang = \"en\", tweet_mode = \"extended\")"
      ],
      "execution_count": 53,
      "outputs": []
    },
    {
      "cell_type": "code",
      "metadata": {
        "id": "SIaqdNg2unBo",
        "colab_type": "code",
        "colab": {}
      },
      "source": [
        "#posts = api.user_timeline(screen_name = \"BillGates\", count = 100, len = \"en\", tweet_mode = \"extended\")"
      ],
      "execution_count": null,
      "outputs": []
    },
    {
      "cell_type": "code",
      "metadata": {
        "id": "L5vJ85fxkNiB",
        "colab_type": "code",
        "colab": {}
      },
      "source": [
        "posts"
      ],
      "execution_count": null,
      "outputs": []
    },
    {
      "cell_type": "code",
      "metadata": {
        "id": "G8ULpadBum_q",
        "colab_type": "code",
        "colab": {
          "base_uri": "https://localhost:8080/",
          "height": 224
        },
        "outputId": "24fdd2b3-fb07-4c66-9ec2-a6a37ffbc694"
      },
      "source": [
        "print(\"show the 5 recent tweets\")\n",
        "i = 1\n",
        "for tweet in posts[0:5]:\n",
        "  print(str(i) + ') ' + tweet.full_text + '\\n')\n",
        "  i= i + 1"
      ],
      "execution_count": 55,
      "outputs": [
        {
          "output_type": "stream",
          "text": [
            "show the 5 recent tweets\n",
            "1) Globally, a lack of medical oxygen–needed to treat pneumonia, malaria, and other diseases–leads to hundreds of thousands of deaths each year. @BernardOlayo founded @Hewa_Tele to address this often-overlooked challenge. https://t.co/TSea0oyDjP\n",
            "\n",
            "2) This hero is playing a critical role in Kenya’s preparations to tackle COVID-19 by scaling up medical oxygen supplies that will be needed to keep the most critically ill patients alive. https://t.co/U2YcRgzSDA\n",
            "\n",
            "3) RT @MichelleObama: Here's what #Juneteenth means to me: https://t.co/KlOoYwdzD5\n",
            "\n",
            "4) RT @NavigatingNikki: “It’s that clarity of language about the VALUE of black life in America that distinguishes #Juneteenth as emancipation…\n",
            "\n",
            "5) RT @nationalbook: \"And I’ll never lose my faith that you and I can create an anti-racist America where racial disparities are nonexistent.…\n",
            "\n"
          ],
          "name": "stdout"
        }
      ]
    },
    {
      "cell_type": "code",
      "metadata": {
        "id": "FAtAhBnEum7j",
        "colab_type": "code",
        "colab": {}
      },
      "source": [
        "df = pd.DataFrame([tweet.full_text for tweet in posts], columns = ['Tweets'])"
      ],
      "execution_count": 56,
      "outputs": []
    },
    {
      "cell_type": "code",
      "metadata": {
        "id": "xfiUxy1Uum4z",
        "colab_type": "code",
        "colab": {
          "base_uri": "https://localhost:8080/",
          "height": 204
        },
        "outputId": "1ca13df5-ea21-4b16-f916-9df153758273"
      },
      "source": [
        "df.head()"
      ],
      "execution_count": 57,
      "outputs": [
        {
          "output_type": "execute_result",
          "data": {
            "text/html": [
              "<div>\n",
              "<style scoped>\n",
              "    .dataframe tbody tr th:only-of-type {\n",
              "        vertical-align: middle;\n",
              "    }\n",
              "\n",
              "    .dataframe tbody tr th {\n",
              "        vertical-align: top;\n",
              "    }\n",
              "\n",
              "    .dataframe thead th {\n",
              "        text-align: right;\n",
              "    }\n",
              "</style>\n",
              "<table border=\"1\" class=\"dataframe\">\n",
              "  <thead>\n",
              "    <tr style=\"text-align: right;\">\n",
              "      <th></th>\n",
              "      <th>Tweets</th>\n",
              "    </tr>\n",
              "  </thead>\n",
              "  <tbody>\n",
              "    <tr>\n",
              "      <th>0</th>\n",
              "      <td>Globally, a lack of medical oxygen–needed to t...</td>\n",
              "    </tr>\n",
              "    <tr>\n",
              "      <th>1</th>\n",
              "      <td>This hero is playing a critical role in Kenya’...</td>\n",
              "    </tr>\n",
              "    <tr>\n",
              "      <th>2</th>\n",
              "      <td>RT @MichelleObama: Here's what #Juneteenth mea...</td>\n",
              "    </tr>\n",
              "    <tr>\n",
              "      <th>3</th>\n",
              "      <td>RT @NavigatingNikki: “It’s that clarity of lan...</td>\n",
              "    </tr>\n",
              "    <tr>\n",
              "      <th>4</th>\n",
              "      <td>RT @nationalbook: \"And I’ll never lose my fait...</td>\n",
              "    </tr>\n",
              "  </tbody>\n",
              "</table>\n",
              "</div>"
            ],
            "text/plain": [
              "                                              Tweets\n",
              "0  Globally, a lack of medical oxygen–needed to t...\n",
              "1  This hero is playing a critical role in Kenya’...\n",
              "2  RT @MichelleObama: Here's what #Juneteenth mea...\n",
              "3  RT @NavigatingNikki: “It’s that clarity of lan...\n",
              "4  RT @nationalbook: \"And I’ll never lose my fait..."
            ]
          },
          "metadata": {
            "tags": []
          },
          "execution_count": 57
        }
      ]
    },
    {
      "cell_type": "code",
      "metadata": {
        "id": "eEq6PYuDum2v",
        "colab_type": "code",
        "colab": {}
      },
      "source": [
        "#clean the text\n",
        "\n",
        "#create a function to clean the text\n",
        "\n",
        "def cleanTxt(text):\n",
        "  text = re.sub('@[A-Za-z0-9]', '', text) # removed @mentions\n",
        "  text = re.sub(r'#', '', text) # removing the '#' symbol \n",
        "  text = re.sub(r'RT[\\s]+','', text) #removing RT\n",
        "  text = re.sub(r'https?:\\/\\/\\S+', '', text) #remove the hyper link\n",
        "\n",
        "  return text"
      ],
      "execution_count": 58,
      "outputs": []
    },
    {
      "cell_type": "code",
      "metadata": {
        "id": "lwQw2ioWum02",
        "colab_type": "code",
        "colab": {}
      },
      "source": [
        "#Cleaning the text\n",
        "df['Tweets'] = df['Tweets'].apply(cleanTxt)"
      ],
      "execution_count": 59,
      "outputs": []
    },
    {
      "cell_type": "code",
      "metadata": {
        "id": "eimTnm0dumyx",
        "colab_type": "code",
        "colab": {
          "base_uri": "https://localhost:8080/",
          "height": 204
        },
        "outputId": "5b2990e6-b050-4ea1-ab8d-c371cd4af095"
      },
      "source": [
        "#show the cleaned text\n",
        "df.head()"
      ],
      "execution_count": 60,
      "outputs": [
        {
          "output_type": "execute_result",
          "data": {
            "text/html": [
              "<div>\n",
              "<style scoped>\n",
              "    .dataframe tbody tr th:only-of-type {\n",
              "        vertical-align: middle;\n",
              "    }\n",
              "\n",
              "    .dataframe tbody tr th {\n",
              "        vertical-align: top;\n",
              "    }\n",
              "\n",
              "    .dataframe thead th {\n",
              "        text-align: right;\n",
              "    }\n",
              "</style>\n",
              "<table border=\"1\" class=\"dataframe\">\n",
              "  <thead>\n",
              "    <tr style=\"text-align: right;\">\n",
              "      <th></th>\n",
              "      <th>Tweets</th>\n",
              "    </tr>\n",
              "  </thead>\n",
              "  <tbody>\n",
              "    <tr>\n",
              "      <th>0</th>\n",
              "      <td>Globally, a lack of medical oxygen–needed to t...</td>\n",
              "    </tr>\n",
              "    <tr>\n",
              "      <th>1</th>\n",
              "      <td>This hero is playing a critical role in Kenya’...</td>\n",
              "    </tr>\n",
              "    <tr>\n",
              "      <th>2</th>\n",
              "      <td>ichelleObama: Here's what Juneteenth means to ...</td>\n",
              "    </tr>\n",
              "    <tr>\n",
              "      <th>3</th>\n",
              "      <td>avigatingNikki: “It’s that clarity of language...</td>\n",
              "    </tr>\n",
              "    <tr>\n",
              "      <th>4</th>\n",
              "      <td>ationalbook: \"And I’ll never lose my faith tha...</td>\n",
              "    </tr>\n",
              "  </tbody>\n",
              "</table>\n",
              "</div>"
            ],
            "text/plain": [
              "                                              Tweets\n",
              "0  Globally, a lack of medical oxygen–needed to t...\n",
              "1  This hero is playing a critical role in Kenya’...\n",
              "2  ichelleObama: Here's what Juneteenth means to ...\n",
              "3  avigatingNikki: “It’s that clarity of language...\n",
              "4  ationalbook: \"And I’ll never lose my faith tha..."
            ]
          },
          "metadata": {
            "tags": []
          },
          "execution_count": 60
        }
      ]
    },
    {
      "cell_type": "code",
      "metadata": {
        "id": "ORXuq2eQumwe",
        "colab_type": "code",
        "colab": {}
      },
      "source": [
        "#Create a functiopn to get the subjectivity\n",
        "def getSubjectivity(text):\n",
        "  return TextBlob(text).sentiment.subjectivity\n",
        "\n",
        "\n",
        "#Create a function to get the polarity\n",
        "def getPolarity(text):\n",
        "  return TextBlob(text).sentiment.polarity\n",
        "\n",
        "#Create two new columns for subjectivity and polarity\n",
        "\n",
        "df['Subjectivity'] = df['Tweets'].apply(getSubjectivity)\n",
        "df['Polarity'] = df['Tweets'].apply(getPolarity)"
      ],
      "execution_count": 61,
      "outputs": []
    },
    {
      "cell_type": "code",
      "metadata": {
        "id": "8RpOQfoiums_",
        "colab_type": "code",
        "colab": {
          "base_uri": "https://localhost:8080/",
          "height": 204
        },
        "outputId": "b33126fe-684e-4662-fefc-e509ab25f533"
      },
      "source": [
        "#Now show the new dataframe with the two new columns\n",
        "\n",
        "df.head()"
      ],
      "execution_count": 62,
      "outputs": [
        {
          "output_type": "execute_result",
          "data": {
            "text/html": [
              "<div>\n",
              "<style scoped>\n",
              "    .dataframe tbody tr th:only-of-type {\n",
              "        vertical-align: middle;\n",
              "    }\n",
              "\n",
              "    .dataframe tbody tr th {\n",
              "        vertical-align: top;\n",
              "    }\n",
              "\n",
              "    .dataframe thead th {\n",
              "        text-align: right;\n",
              "    }\n",
              "</style>\n",
              "<table border=\"1\" class=\"dataframe\">\n",
              "  <thead>\n",
              "    <tr style=\"text-align: right;\">\n",
              "      <th></th>\n",
              "      <th>Tweets</th>\n",
              "      <th>Subjectivity</th>\n",
              "      <th>Polarity</th>\n",
              "    </tr>\n",
              "  </thead>\n",
              "  <tbody>\n",
              "    <tr>\n",
              "      <th>0</th>\n",
              "      <td>Globally, a lack of medical oxygen–needed to t...</td>\n",
              "      <td>0.125000</td>\n",
              "      <td>-0.041667</td>\n",
              "    </tr>\n",
              "    <tr>\n",
              "      <th>1</th>\n",
              "      <td>This hero is playing a critical role in Kenya’...</td>\n",
              "      <td>0.540000</td>\n",
              "      <td>0.020000</td>\n",
              "    </tr>\n",
              "    <tr>\n",
              "      <th>2</th>\n",
              "      <td>ichelleObama: Here's what Juneteenth means to ...</td>\n",
              "      <td>0.000000</td>\n",
              "      <td>0.000000</td>\n",
              "    </tr>\n",
              "    <tr>\n",
              "      <th>3</th>\n",
              "      <td>avigatingNikki: “It’s that clarity of language...</td>\n",
              "      <td>0.433333</td>\n",
              "      <td>-0.166667</td>\n",
              "    </tr>\n",
              "    <tr>\n",
              "      <th>4</th>\n",
              "      <td>ationalbook: \"And I’ll never lose my faith tha...</td>\n",
              "      <td>0.000000</td>\n",
              "      <td>0.000000</td>\n",
              "    </tr>\n",
              "  </tbody>\n",
              "</table>\n",
              "</div>"
            ],
            "text/plain": [
              "                                              Tweets  Subjectivity  Polarity\n",
              "0  Globally, a lack of medical oxygen–needed to t...      0.125000 -0.041667\n",
              "1  This hero is playing a critical role in Kenya’...      0.540000  0.020000\n",
              "2  ichelleObama: Here's what Juneteenth means to ...      0.000000  0.000000\n",
              "3  avigatingNikki: “It’s that clarity of language...      0.433333 -0.166667\n",
              "4  ationalbook: \"And I’ll never lose my faith tha...      0.000000  0.000000"
            ]
          },
          "metadata": {
            "tags": []
          },
          "execution_count": 62
        }
      ]
    },
    {
      "cell_type": "code",
      "metadata": {
        "id": "Fn6VTiJBumq4",
        "colab_type": "code",
        "colab": {
          "base_uri": "https://localhost:8080/",
          "height": 264
        },
        "outputId": "3bb7b767-232d-4a33-e041-792177f73e06"
      },
      "source": [
        "#plot the word cloud \n",
        "\n",
        "allwords = ' '.join([twts for twts in df['Tweets']])\n",
        "wordCloud = WordCloud(width = 2500, height =2000, random_state = 101, max_font_size = 400).generate(allwords)\n",
        "\n",
        "plt.imshow(wordCloud, interpolation= \"bilinear\")\n",
        "plt.axis('off')\n",
        "plt.show()"
      ],
      "execution_count": 63,
      "outputs": [
        {
          "output_type": "display_data",
          "data": {
            "image/png": "[encoded data removed]",
            "text/plain": [
              "<Figure size 432x288 with 1 Axes>"
            ]
          },
          "metadata": {
            "tags": []
          }
        }
      ]
    },
    {
      "cell_type": "code",
      "metadata": {
        "id": "Y8xkoWXZumoh",
        "colab_type": "code",
        "colab": {
          "base_uri": "https://localhost:8080/",
          "height": 204
        },
        "outputId": "18191b1e-8990-4da0-9dd1-94755f3410db"
      },
      "source": [
        "#create a function to compute the negative, neutral and positive analysis\n",
        "def getAnalysis(score):\n",
        "  if score < 0:\n",
        "    return 'negative'\n",
        "  elif score == 0:\n",
        "    return 'Neutral'\n",
        "  else:\n",
        "    return 'Positive'\n",
        "\n",
        "df['Analysis'] = df['Polarity'].apply(getAnalysis)\n",
        "\n",
        "#show the dataframe\n",
        "\n",
        "df.head()"
      ],
      "execution_count": 64,
      "outputs": [
        {
          "output_type": "execute_result",
          "data": {
            "text/html": [
              "<div>\n",
              "<style scoped>\n",
              "    .dataframe tbody tr th:only-of-type {\n",
              "        vertical-align: middle;\n",
              "    }\n",
              "\n",
              "    .dataframe tbody tr th {\n",
              "        vertical-align: top;\n",
              "    }\n",
              "\n",
              "    .dataframe thead th {\n",
              "        text-align: right;\n",
              "    }\n",
              "</style>\n",
              "<table border=\"1\" class=\"dataframe\">\n",
              "  <thead>\n",
              "    <tr style=\"text-align: right;\">\n",
              "      <th></th>\n",
              "      <th>Tweets</th>\n",
              "      <th>Subjectivity</th>\n",
              "      <th>Polarity</th>\n",
              "      <th>Analysis</th>\n",
              "    </tr>\n",
              "  </thead>\n",
              "  <tbody>\n",
              "    <tr>\n",
              "      <th>0</th>\n",
              "      <td>Globally, a lack of medical oxygen–needed to t...</td>\n",
              "      <td>0.125000</td>\n",
              "      <td>-0.041667</td>\n",
              "      <td>negative</td>\n",
              "    </tr>\n",
              "    <tr>\n",
              "      <th>1</th>\n",
              "      <td>This hero is playing a critical role in Kenya’...</td>\n",
              "      <td>0.540000</td>\n",
              "      <td>0.020000</td>\n",
              "      <td>Positive</td>\n",
              "    </tr>\n",
              "    <tr>\n",
              "      <th>2</th>\n",
              "      <td>ichelleObama: Here's what Juneteenth means to ...</td>\n",
              "      <td>0.000000</td>\n",
              "      <td>0.000000</td>\n",
              "      <td>Neutral</td>\n",
              "    </tr>\n",
              "    <tr>\n",
              "      <th>3</th>\n",
              "      <td>avigatingNikki: “It’s that clarity of language...</td>\n",
              "      <td>0.433333</td>\n",
              "      <td>-0.166667</td>\n",
              "      <td>negative</td>\n",
              "    </tr>\n",
              "    <tr>\n",
              "      <th>4</th>\n",
              "      <td>ationalbook: \"And I’ll never lose my faith tha...</td>\n",
              "      <td>0.000000</td>\n",
              "      <td>0.000000</td>\n",
              "      <td>Neutral</td>\n",
              "    </tr>\n",
              "  </tbody>\n",
              "</table>\n",
              "</div>"
            ],
            "text/plain": [
              "                                              Tweets  ...  Analysis\n",
              "0  Globally, a lack of medical oxygen–needed to t...  ...  negative\n",
              "1  This hero is playing a critical role in Kenya’...  ...  Positive\n",
              "2  ichelleObama: Here's what Juneteenth means to ...  ...   Neutral\n",
              "3  avigatingNikki: “It’s that clarity of language...  ...  negative\n",
              "4  ationalbook: \"And I’ll never lose my faith tha...  ...   Neutral\n",
              "\n",
              "[5 rows x 4 columns]"
            ]
          },
          "metadata": {
            "tags": []
          },
          "execution_count": 64
        }
      ]
    },
    {
      "cell_type": "code",
      "metadata": {
        "id": "gCpg--5gummX",
        "colab_type": "code",
        "colab": {}
      },
      "source": [
        "#Print all the positive tweets\n",
        "\n",
        "j = 1\n",
        "sortedDF = df.sort_values(by = ['Polarity'])\n",
        "for i in range(0, sortedDF.shape[0]):\n",
        "  if(sortedDF['Analysis'][i] == 'Positive'):\n",
        "    print(str(j) + ') ' + sortedDF['Tweets'][i])\n",
        "    print()\n",
        "    j = j + 1"
      ],
      "execution_count": null,
      "outputs": []
    },
    {
      "cell_type": "code",
      "metadata": {
        "id": "wwY-vVRpC38G",
        "colab_type": "code",
        "colab": {
          "base_uri": "https://localhost:8080/",
          "height": 204
        },
        "outputId": "e70ca120-e976-48b2-c563-cb5eea3c0554"
      },
      "source": [
        "sortedDF.head()"
      ],
      "execution_count": 74,
      "outputs": [
        {
          "output_type": "execute_result",
          "data": {
            "text/html": [
              "<div>\n",
              "<style scoped>\n",
              "    .dataframe tbody tr th:only-of-type {\n",
              "        vertical-align: middle;\n",
              "    }\n",
              "\n",
              "    .dataframe tbody tr th {\n",
              "        vertical-align: top;\n",
              "    }\n",
              "\n",
              "    .dataframe thead th {\n",
              "        text-align: right;\n",
              "    }\n",
              "</style>\n",
              "<table border=\"1\" class=\"dataframe\">\n",
              "  <thead>\n",
              "    <tr style=\"text-align: right;\">\n",
              "      <th></th>\n",
              "      <th>Tweets</th>\n",
              "      <th>Subjectivity</th>\n",
              "      <th>Polarity</th>\n",
              "      <th>Analysis</th>\n",
              "    </tr>\n",
              "  </thead>\n",
              "  <tbody>\n",
              "    <tr>\n",
              "      <th>18</th>\n",
              "      <td>elindagates: The video of George Floyd’s bruta...</td>\n",
              "      <td>1.0000</td>\n",
              "      <td>-0.8750</td>\n",
              "      <td>negative</td>\n",
              "    </tr>\n",
              "    <tr>\n",
              "      <th>85</th>\n",
              "      <td>Game on!</td>\n",
              "      <td>0.4000</td>\n",
              "      <td>-0.5000</td>\n",
              "      <td>negative</td>\n",
              "    </tr>\n",
              "    <tr>\n",
              "      <th>12</th>\n",
              "      <td>upita_Nyongo: 1. This is Opal Lee, the force b...</td>\n",
              "      <td>0.7000</td>\n",
              "      <td>-0.4000</td>\n",
              "      <td>negative</td>\n",
              "    </tr>\n",
              "    <tr>\n",
              "      <th>15</th>\n",
              "      <td>…in policing, criminal justice, education, hea...</td>\n",
              "      <td>0.4625</td>\n",
              "      <td>-0.2625</td>\n",
              "      <td>negative</td>\n",
              "    </tr>\n",
              "    <tr>\n",
              "      <th>8</th>\n",
              "      <td>va: “Only those feigning blindness fail to see...</td>\n",
              "      <td>0.6500</td>\n",
              "      <td>-0.2500</td>\n",
              "      <td>negative</td>\n",
              "    </tr>\n",
              "  </tbody>\n",
              "</table>\n",
              "</div>"
            ],
            "text/plain": [
              "                                               Tweets  ...  Analysis\n",
              "18  elindagates: The video of George Floyd’s bruta...  ...  negative\n",
              "85                                          Game on!   ...  negative\n",
              "12  upita_Nyongo: 1. This is Opal Lee, the force b...  ...  negative\n",
              "15  …in policing, criminal justice, education, hea...  ...  negative\n",
              "8   va: “Only those feigning blindness fail to see...  ...  negative\n",
              "\n",
              "[5 rows x 4 columns]"
            ]
          },
          "metadata": {
            "tags": []
          },
          "execution_count": 74
        }
      ]
    },
    {
      "cell_type": "code",
      "metadata": {
        "id": "Ufhjj6Ctumk1",
        "colab_type": "code",
        "colab": {
          "base_uri": "https://localhost:8080/",
          "height": 717
        },
        "outputId": "fb9e7eb9-dcf8-4988-e4c5-ee683055de57"
      },
      "source": [
        "#Print all the Negative tweets\n",
        "\n",
        "j = 1\n",
        "sortedDF = df.sort_values(by = ['Polarity'], ascending= 'False')\n",
        "for i in range(0, sortedDF.shape[0]):\n",
        "  if(sortedDF['Analysis'][i] == 'negative'):\n",
        "      print(str(j) + ') ' + sortedDF['Tweets'][i])\n",
        "      print()\n",
        "      j = j + 1  "
      ],
      "execution_count": 75,
      "outputs": [
        {
          "output_type": "stream",
          "text": [
            "1) Globally, a lack of medical oxygen–needed to treat pneumonia, malaria, and other diseases–leads to hundreds of thousands of deaths each year. ernardOlayo founded ewa_Tele to address this often-overlooked challenge. \n",
            "\n",
            "2) avigatingNikki: “It’s that clarity of language about the VALUE of black life in America that distinguishes Juneteenth as emancipation…\n",
            "\n",
            "3) va: “Only those feigning blindness fail to see the body of work we are, and the work of body we have done. \n",
            "\n",
            "Everything is what it is…\n",
            "\n",
            "4) aejemison: Juneteenth recognizes &amp; celebrates Black people’s freedom and the end of slavery in the US!  19 Jun 1865 Union Army Genera…\n",
            "\n",
            "5) upita_Nyongo: 1. This is Opal Lee, the force behind the movement to make Juneteenth a national holiday. Also known as Freedom Day, it…\n",
            "\n",
            "6) …in policing, criminal justice, education, health care, housing, the workplace and all other areas of their lives.\n",
            "\n",
            "7) The horrifying killings of George Floyd, Ahmaud Arbery, Breonna Taylor and far too many other Black people—and the protests they sparked—are shining a light on the brutal injustices that Black people experience every day…\n",
            "\n",
            "8) elindagates: The video of George Floyd’s brutal death broke my heart. I’ve watched the protests that followed and have felt overwhelme…\n",
            "\n",
            "9) I’m hopeful that this program will improve our understanding of the coronavirus outbreak in Seattle and provide valuable information about the virus for other communities around the world. \n",
            "\n",
            "10) Class of 2020, these are not easy times. But we will get through them. And with your leadership, the world will be stronger than before. \n",
            "\n",
            "11) Halting funding for the World Health Organization during a world health crisis is as dangerous as it sounds. Their work is slowing the spread of COVID-19 and if that work is stopped no other organization can replace them. The world needs HO now more than ever.\n",
            "\n",
            "12) I always enjoy chatting with revornoah, even though we had to sit a little bit further apart than usual this time. \n",
            "\n",
            "13) Extreme physical distancing measures will make a big difference in the U.S., but we need a consistent nationwide approach. Until the case numbers start to go down across America—which could take 10 weeks or more—no one can continue business as usual or relax the shutdown.\n",
            "\n",
            "14) Science is giving us the opportunity to improve lives around the world faster than ever before. Today I was honored to give a speech on this subject at the aas annual meeting. AAASmtg \n",
            "\n",
            "15) Suzman: The world must work together to slow the coronavirus outbreak, protect the most vulnerable, &amp; develop tools to control this ep…\n",
            "\n",
            "16) Game on! \n",
            "\n",
            "17) It's great to see Microsoft's leadership in this area. Avoiding the worst effects of climate change will require innovation and investment to get us to net zero carbon emissions across all sectors of the economy. \n",
            "\n",
            "18) These global health heroes have helped Bangladesh become a model for other countries for how to respond to infectious disease outbreaks:  \n",
            "\n",
            "19) It’s encouraging to see these results. Typhoid is especially deadly for young children, and a vaccine like this has the potential to save millions of lives. \n",
            "\n"
          ],
          "name": "stdout"
        }
      ]
    },
    {
      "cell_type": "code",
      "metadata": {
        "id": "i2YMPUg8umjV",
        "colab_type": "code",
        "colab": {
          "base_uri": "https://localhost:8080/",
          "height": 458
        },
        "outputId": "891226fc-1739-40d8-8323-79553b5489e7"
      },
      "source": [
        "plt.figure(figsize=(8,6))\n",
        "for i in range(0 , df.shape[0]):\n",
        "  plt.scatter(df['Polarity'][i], df['Subjectivity'][i], color= 'Blue')\n",
        "\n",
        "plt.title('Sentiment Analysis')\n",
        "plt.xlabel('Polarity')\n",
        "plt.ylabel('Subjectivity')"
      ],
      "execution_count": 81,
      "outputs": [
        {
          "output_type": "execute_result",
          "data": {
            "text/plain": [
              "Text(0, 0.5, 'Subjectivity')"
            ]
          },
          "metadata": {
            "tags": []
          },
          "execution_count": 81
        },
        {
          "output_type": "display_data",
          "data": {
            "image/png": "[encoded data removed]",
            "text/plain": [
              "<Figure size 576x432 with 1 Axes>"
            ]
          },
          "metadata": {
            "tags": []
          }
        }
      ]
    },
    {
      "cell_type": "code",
      "metadata": {
        "id": "kLQaX5sRumhw",
        "colab_type": "code",
        "colab": {
          "base_uri": "https://localhost:8080/",
          "height": 34
        },
        "outputId": "9b61d858-47a5-467f-e276-477f51c664fb"
      },
      "source": [
        "#Get the percentage of positive tweets\n",
        "ptweets = df[df.Analysis == 'Positive']\n",
        "ptweets = ptweets['Tweets']\n",
        "\n",
        "#ptweets\n",
        "round( (ptweets.shape[0]/df.shape[0]) * 100, 1)"
      ],
      "execution_count": 86,
      "outputs": [
        {
          "output_type": "execute_result",
          "data": {
            "text/plain": [
              "68.0"
            ]
          },
          "metadata": {
            "tags": []
          },
          "execution_count": 86
        }
      ]
    },
    {
      "cell_type": "code",
      "metadata": {
        "id": "KQ6J0vkyumgU",
        "colab_type": "code",
        "colab": {
          "base_uri": "https://localhost:8080/",
          "height": 34
        },
        "outputId": "a6113127-cbc6-4fac-e558-c6b9bd399714"
      },
      "source": [
        "#Get the percentage of negative tweets\n",
        "ptweets = df[df.Analysis == 'negative']\n",
        "ptweets = ptweets['Tweets']\n",
        "\n",
        "#ptweets\n",
        "round( (ptweets.shape[0]/df.shape[0]) * 100, 1)"
      ],
      "execution_count": 88,
      "outputs": [
        {
          "output_type": "execute_result",
          "data": {
            "text/plain": [
              "19.0"
            ]
          },
          "metadata": {
            "tags": []
          },
          "execution_count": 88
        }
      ]
    },
    {
      "cell_type": "code",
      "metadata": {
        "id": "Zu3JYYM3uma6",
        "colab_type": "code",
        "colab": {
          "base_uri": "https://localhost:8080/",
          "height": 350
        },
        "outputId": "f4a94e1c-0c2e-448c-b048-f7c92d1f6a69"
      },
      "source": [
        "#show the value count\n",
        "df['Analysis'].value_counts()\n",
        "\n",
        "#plot and visualize the counts\n",
        "\n",
        "plt.title('Sentiment Analysis')\n",
        "plt.title('Sentiment')\n",
        "plt.title('Count')\n",
        "\n",
        "df['Analysis'].value_counts().plot(kind = 'bar')\n",
        "\n",
        "plt.show()\n",
        "\n"
      ],
      "execution_count": 89,
      "outputs": [
        {
          "output_type": "display_data",
          "data": {
            "image/png": "[encoded data removed]",
            "text/plain": [
              "<Figure size 432x288 with 1 Axes>"
            ]
          },
          "metadata": {
            "tags": []
          }
        }
      ]
    },
    {
      "cell_type": "code",
      "metadata": {
        "id": "EatnwqjCumY4",
        "colab_type": "code",
        "colab": {}
      },
      "source": [
        ""
      ],
      "execution_count": null,
      "outputs": []
    },
    {
      "cell_type": "code",
      "metadata": {
        "id": "rf3gPbCCumWG",
        "colab_type": "code",
        "colab": {}
      },
      "source": [
        ""
      ],
      "execution_count": null,
      "outputs": []
    },
    {
      "cell_type": "code",
      "metadata": {
        "id": "eVAlnxEIumQm",
        "colab_type": "code",
        "colab": {}
      },
      "source": [
        ""
      ],
      "execution_count": null,
      "outputs": []
    },
    {
      "cell_type": "code",
      "metadata": {
        "id": "kb39WmPeumOw",
        "colab_type": "code",
        "colab": {}
      },
      "source": [
        ""
      ],
      "execution_count": null,
      "outputs": []
    },
    {
      "cell_type": "code",
      "metadata": {
        "id": "Y5pnyTzUumL9",
        "colab_type": "code",
        "colab": {}
      },
      "source": [
        ""
      ],
      "execution_count": null,
      "outputs": []
    },
    {
      "cell_type": "code",
      "metadata": {
        "id": "PbRe7wePumKP",
        "colab_type": "code",
        "colab": {}
      },
      "source": [
        ""
      ],
      "execution_count": null,
      "outputs": []
    },
    {
      "cell_type": "code",
      "metadata": {
        "id": "n_GioJuyumI9",
        "colab_type": "code",
        "colab": {}
      },
      "source": [
        ""
      ],
      "execution_count": null,
      "outputs": []
    },
    {
      "cell_type": "code",
      "metadata": {
        "id": "k7a03lzyumGj",
        "colab_type": "code",
        "colab": {}
      },
      "source": [
        ""
      ],
      "execution_count": null,
      "outputs": []
    },
    {
      "cell_type": "code",
      "metadata": {
        "id": "atqBWwRIumBx",
        "colab_type": "code",
        "colab": {}
      },
      "source": [
        ""
      ],
      "execution_count": null,
      "outputs": []
    },
    {
      "cell_type": "code",
      "metadata": {
        "id": "0717BmU7ul-u",
        "colab_type": "code",
        "colab": {}
      },
      "source": [
        ""
      ],
      "execution_count": null,
      "outputs": []
    },
    {
      "cell_type": "code",
      "metadata": {
        "id": "jILr_RIiul8e",
        "colab_type": "code",
        "colab": {}
      },
      "source": [
        ""
      ],
      "execution_count": null,
      "outputs": []
    },
    {
      "cell_type": "code",
      "metadata": {
        "id": "13SUS5kiul6Z",
        "colab_type": "code",
        "colab": {}
      },
      "source": [
        ""
      ],
      "execution_count": null,
      "outputs": []
    },
    {
      "cell_type": "code",
      "metadata": {
        "id": "5YcRnrq_ul5K",
        "colab_type": "code",
        "colab": {}
      },
      "source": [
        ""
      ],
      "execution_count": null,
      "outputs": []
    },
    {
      "cell_type": "code",
      "metadata": {
        "id": "uh7SBDvHul2w",
        "colab_type": "code",
        "colab": {}
      },
      "source": [
        ""
      ],
      "execution_count": null,
      "outputs": []
    },
    {
      "cell_type": "code",
      "metadata": {
        "id": "GPzxi085ulyn",
        "colab_type": "code",
        "colab": {}
      },
      "source": [
        ""
      ],
      "execution_count": null,
      "outputs": []
    },
    {
      "cell_type": "code",
      "metadata": {
        "id": "KBINKhvrulwS",
        "colab_type": "code",
        "colab": {}
      },
      "source": [
        ""
      ],
      "execution_count": null,
      "outputs": []
    },
    {
      "cell_type": "code",
      "metadata": {
        "id": "A6TwCO1TuluR",
        "colab_type": "code",
        "colab": {}
      },
      "source": [
        ""
      ],
      "execution_count": null,
      "outputs": []
    },
    {
      "cell_type": "code",
      "metadata": {
        "id": "zDCxHbfLuls6",
        "colab_type": "code",
        "colab": {}
      },
      "source": [
        ""
      ],
      "execution_count": null,
      "outputs": []
    },
    {
      "cell_type": "code",
      "metadata": {
        "id": "NkrlElVzulsB",
        "colab_type": "code",
        "colab": {}
      },
      "source": [
        ""
      ],
      "execution_count": null,
      "outputs": []
    },
    {
      "cell_type": "code",
      "metadata": {
        "id": "MST5AbGqulqa",
        "colab_type": "code",
        "colab": {}
      },
      "source": [
        ""
      ],
      "execution_count": null,
      "outputs": []
    },
    {
      "cell_type": "code",
      "metadata": {
        "id": "lHeJVlTyulms",
        "colab_type": "code",
        "colab": {}
      },
      "source": [
        ""
      ],
      "execution_count": null,
      "outputs": []
    }
  ]
}